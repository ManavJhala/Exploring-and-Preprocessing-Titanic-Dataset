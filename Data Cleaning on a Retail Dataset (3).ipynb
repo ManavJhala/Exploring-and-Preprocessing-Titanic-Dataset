{
 "cells": [
  {
   "cell_type": "markdown",
   "id": "a501c9ed-6720-47bc-9bc2-6045be32b626",
   "metadata": {},
   "source": [
    "# Basic Data Cleaning on a Retail Dataset\n",
    "\n",
    "This notebook demonstrates basic cleaning techniques I will implement, such as...\n",
    "- Handling missing values\n",
    "- Removing duplicates\n",
    "- Converting data types when necessary"
   ]
  },
  {
   "cell_type": "markdown",
   "id": "b5a90c1f-175b-4369-a3a0-5ae4de30582b",
   "metadata": {},
   "source": [
    "For this project, I will be using a retail store sales dataset on Kaggle"
   ]
  },
  {
   "cell_type": "code",
   "execution_count": 15,
   "id": "123d098f-bcec-42d9-851f-b2d74cea6e56",
   "metadata": {},
   "outputs": [],
   "source": [
    "import pandas as pd"
   ]
  },
  {
   "cell_type": "code",
   "execution_count": 16,
   "id": "58a83aa2-3a52-4e75-93b8-52b1bd4dbb9c",
   "metadata": {},
   "outputs": [
    {
     "data": {
      "text/html": [
       "<div>\n",
       "<style scoped>\n",
       "    .dataframe tbody tr th:only-of-type {\n",
       "        vertical-align: middle;\n",
       "    }\n",
       "\n",
       "    .dataframe tbody tr th {\n",
       "        vertical-align: top;\n",
       "    }\n",
       "\n",
       "    .dataframe thead th {\n",
       "        text-align: right;\n",
       "    }\n",
       "</style>\n",
       "<table border=\"1\" class=\"dataframe\">\n",
       "  <thead>\n",
       "    <tr style=\"text-align: right;\">\n",
       "      <th></th>\n",
       "      <th>Transaction ID</th>\n",
       "      <th>Customer ID</th>\n",
       "      <th>Category</th>\n",
       "      <th>Item</th>\n",
       "      <th>Price Per Unit</th>\n",
       "      <th>Quantity</th>\n",
       "      <th>Total Spent</th>\n",
       "      <th>Payment Method</th>\n",
       "      <th>Location</th>\n",
       "      <th>Transaction Date</th>\n",
       "      <th>Discount Applied</th>\n",
       "    </tr>\n",
       "  </thead>\n",
       "  <tbody>\n",
       "    <tr>\n",
       "      <th>0</th>\n",
       "      <td>TXN_6867343</td>\n",
       "      <td>CUST_09</td>\n",
       "      <td>Patisserie</td>\n",
       "      <td>Item_10_PAT</td>\n",
       "      <td>18.5</td>\n",
       "      <td>10.0</td>\n",
       "      <td>185.0</td>\n",
       "      <td>Digital Wallet</td>\n",
       "      <td>Online</td>\n",
       "      <td>2024-04-08</td>\n",
       "      <td>True</td>\n",
       "    </tr>\n",
       "    <tr>\n",
       "      <th>1</th>\n",
       "      <td>TXN_3731986</td>\n",
       "      <td>CUST_22</td>\n",
       "      <td>Milk Products</td>\n",
       "      <td>Item_17_MILK</td>\n",
       "      <td>29.0</td>\n",
       "      <td>9.0</td>\n",
       "      <td>261.0</td>\n",
       "      <td>Digital Wallet</td>\n",
       "      <td>Online</td>\n",
       "      <td>2023-07-23</td>\n",
       "      <td>True</td>\n",
       "    </tr>\n",
       "    <tr>\n",
       "      <th>2</th>\n",
       "      <td>TXN_9303719</td>\n",
       "      <td>CUST_02</td>\n",
       "      <td>Butchers</td>\n",
       "      <td>Item_12_BUT</td>\n",
       "      <td>21.5</td>\n",
       "      <td>2.0</td>\n",
       "      <td>43.0</td>\n",
       "      <td>Credit Card</td>\n",
       "      <td>Online</td>\n",
       "      <td>2022-10-05</td>\n",
       "      <td>False</td>\n",
       "    </tr>\n",
       "    <tr>\n",
       "      <th>3</th>\n",
       "      <td>TXN_9458126</td>\n",
       "      <td>CUST_06</td>\n",
       "      <td>Beverages</td>\n",
       "      <td>Item_16_BEV</td>\n",
       "      <td>27.5</td>\n",
       "      <td>9.0</td>\n",
       "      <td>247.5</td>\n",
       "      <td>Credit Card</td>\n",
       "      <td>Online</td>\n",
       "      <td>2022-05-07</td>\n",
       "      <td>NaN</td>\n",
       "    </tr>\n",
       "    <tr>\n",
       "      <th>4</th>\n",
       "      <td>TXN_4575373</td>\n",
       "      <td>CUST_05</td>\n",
       "      <td>Food</td>\n",
       "      <td>Item_6_FOOD</td>\n",
       "      <td>12.5</td>\n",
       "      <td>7.0</td>\n",
       "      <td>87.5</td>\n",
       "      <td>Digital Wallet</td>\n",
       "      <td>Online</td>\n",
       "      <td>2022-10-02</td>\n",
       "      <td>False</td>\n",
       "    </tr>\n",
       "  </tbody>\n",
       "</table>\n",
       "</div>"
      ],
      "text/plain": [
       "  Transaction ID Customer ID       Category          Item  Price Per Unit  \\\n",
       "0    TXN_6867343     CUST_09     Patisserie   Item_10_PAT            18.5   \n",
       "1    TXN_3731986     CUST_22  Milk Products  Item_17_MILK            29.0   \n",
       "2    TXN_9303719     CUST_02       Butchers   Item_12_BUT            21.5   \n",
       "3    TXN_9458126     CUST_06      Beverages   Item_16_BEV            27.5   \n",
       "4    TXN_4575373     CUST_05           Food   Item_6_FOOD            12.5   \n",
       "\n",
       "   Quantity  Total Spent  Payment Method Location Transaction Date  \\\n",
       "0      10.0        185.0  Digital Wallet   Online       2024-04-08   \n",
       "1       9.0        261.0  Digital Wallet   Online       2023-07-23   \n",
       "2       2.0         43.0     Credit Card   Online       2022-10-05   \n",
       "3       9.0        247.5     Credit Card   Online       2022-05-07   \n",
       "4       7.0         87.5  Digital Wallet   Online       2022-10-02   \n",
       "\n",
       "  Discount Applied  \n",
       "0             True  \n",
       "1             True  \n",
       "2            False  \n",
       "3              NaN  \n",
       "4            False  "
      ]
     },
     "execution_count": 16,
     "metadata": {},
     "output_type": "execute_result"
    }
   ],
   "source": [
    "df = pd.read_csv(\"retail_store_sales.csv\")\n",
    "df.head()"
   ]
  },
  {
   "cell_type": "markdown",
   "id": "8b1311f1-5b1f-470e-8294-cd821402c94b",
   "metadata": {},
   "source": [
    "First, I will check the info and stats of this dataset..."
   ]
  },
  {
   "cell_type": "code",
   "execution_count": 17,
   "id": "6b0eabeb-eff0-4ecf-af81-cd81c01dc576",
   "metadata": {},
   "outputs": [
    {
     "name": "stdout",
     "output_type": "stream",
     "text": [
      "<class 'pandas.core.frame.DataFrame'>\n",
      "RangeIndex: 12575 entries, 0 to 12574\n",
      "Data columns (total 11 columns):\n",
      " #   Column            Non-Null Count  Dtype  \n",
      "---  ------            --------------  -----  \n",
      " 0   Transaction ID    12575 non-null  object \n",
      " 1   Customer ID       12575 non-null  object \n",
      " 2   Category          12575 non-null  object \n",
      " 3   Item              11362 non-null  object \n",
      " 4   Price Per Unit    11966 non-null  float64\n",
      " 5   Quantity          11971 non-null  float64\n",
      " 6   Total Spent       11971 non-null  float64\n",
      " 7   Payment Method    12575 non-null  object \n",
      " 8   Location          12575 non-null  object \n",
      " 9   Transaction Date  12575 non-null  object \n",
      " 10  Discount Applied  8376 non-null   object \n",
      "dtypes: float64(3), object(8)\n",
      "memory usage: 1.1+ MB\n"
     ]
    }
   ],
   "source": [
    "df.info()"
   ]
  },
  {
   "cell_type": "markdown",
   "id": "767ce15d-9fa1-49e7-a932-42bc2bda69e1",
   "metadata": {},
   "source": [
    "From this info() command, I can infer that there are 12575 rows, but some columns don't have that many rows. For example, the columns Item, Price Per unit, Quantity, Total Spent, and Discount Applied have missing rows and therefore require cleaning. Another thing I noticed is that the Transaction Date is an object Dtype, but it should be a datetime for any time analysis. Additionally, Discount Applied is an object, but it should be a boolean, true or false."
   ]
  },
  {
   "cell_type": "markdown",
   "id": "51e7a058-74f4-43cf-abb8-b6f3f15693d8",
   "metadata": {},
   "source": [
    "First, I will look for any duplicate values and get rid of them "
   ]
  },
  {
   "cell_type": "code",
   "execution_count": 18,
   "id": "f18753df-a409-48c7-b8a1-a1c044f4b30e",
   "metadata": {},
   "outputs": [
    {
     "data": {
      "text/plain": [
       "np.int64(0)"
      ]
     },
     "execution_count": 18,
     "metadata": {},
     "output_type": "execute_result"
    }
   ],
   "source": [
    "#Here I am checking if there are any duplicates. It turns out that there aren't any duplicates, so I don't have to drop anything here.\n",
    "df.duplicated().sum()"
   ]
  },
  {
   "cell_type": "markdown",
   "id": "1d185906-8400-4415-a435-a2b0f71024c4",
   "metadata": {},
   "source": [
    "Next, I will fill in some missing values and get rid of others"
   ]
  },
  {
   "cell_type": "code",
   "execution_count": null,
   "id": "8305ba9a-6fe1-4e84-bd25-80938c360eba",
   "metadata": {},
   "outputs": [],
   "source": [
    "# I am going to assume that if there is no value for discount, then no discount was applied, and it's false.\n",
    "# I am also going to change the data type from object to boolean\n",
    "df[\"Discount Applied\"].fillna(False, inplace=True)\n",
    "df[\"Discount Applied\"] = df[\"Discount Applied\"].astype('bool')"
   ]
  },
  {
   "cell_type": "code",
   "execution_count": 19,
   "id": "6972ed77-125b-4530-b77e-49c65ad5d632",
   "metadata": {},
   "outputs": [],
   "source": [
    "#Now I am going drop all rows that are missing values for Price Per unit, Quantity, and Total Spent, because I don't know that data.\n",
    "df.dropna(subset=[\"Price Per Unit\", \"Quantity\", \"Total Spent\"], inplace = True)"
   ]
  },
  {
   "cell_type": "code",
   "execution_count": 20,
   "id": "aac66429-7345-4364-9a9a-a112158acb59",
   "metadata": {},
   "outputs": [],
   "source": [
    "#Finally, I am going to change Transaction Data from an object Dtype to a datetime Dtype\n",
    "df[\"Transaction Date\"] = pd.to_datetime(df[\"Transaction Date\"])"
   ]
  },
  {
   "cell_type": "code",
   "execution_count": 21,
   "id": "b16a0b41-ab20-40c4-a2e1-4247e17c2d8f",
   "metadata": {},
   "outputs": [
    {
     "name": "stdout",
     "output_type": "stream",
     "text": [
      "<class 'pandas.core.frame.DataFrame'>\n",
      "Index: 11362 entries, 0 to 12574\n",
      "Data columns (total 11 columns):\n",
      " #   Column            Non-Null Count  Dtype         \n",
      "---  ------            --------------  -----         \n",
      " 0   Transaction ID    11362 non-null  object        \n",
      " 1   Customer ID       11362 non-null  object        \n",
      " 2   Category          11362 non-null  object        \n",
      " 3   Item              11362 non-null  object        \n",
      " 4   Price Per Unit    11362 non-null  float64       \n",
      " 5   Quantity          11362 non-null  float64       \n",
      " 6   Total Spent       11362 non-null  float64       \n",
      " 7   Payment Method    11362 non-null  object        \n",
      " 8   Location          11362 non-null  object        \n",
      " 9   Transaction Date  11362 non-null  datetime64[ns]\n",
      " 10  Discount Applied  7579 non-null   object        \n",
      "dtypes: datetime64[ns](1), float64(3), object(7)\n",
      "memory usage: 1.0+ MB\n"
     ]
    }
   ],
   "source": [
    "df.info()"
   ]
  },
  {
   "cell_type": "markdown",
   "id": "88c42f54-ceb6-480f-a82f-0e34f46354bd",
   "metadata": {},
   "source": [
    "Now with all the cleaning done, we can see that there are no longer any missing values, and the Transaction Date/Discount Applied columns have been given appropriate data types. Around 1000 rows of missing information were deleted, and many more were updated based on the assumption that if a discount wasn't recorded, then there was no discount.\n"
   ]
  },
  {
   "cell_type": "code",
   "execution_count": null,
   "id": "e2da494d-41d5-4be8-98a1-7837d2b39d3d",
   "metadata": {},
   "outputs": [],
   "source": []
  }
 ],
 "metadata": {
  "kernelspec": {
   "display_name": "Python [conda env:base] *",
   "language": "python",
   "name": "conda-base-py"
  },
  "language_info": {
   "codemirror_mode": {
    "name": "ipython",
    "version": 3
   },
   "file_extension": ".py",
   "mimetype": "text/x-python",
   "name": "python",
   "nbconvert_exporter": "python",
   "pygments_lexer": "ipython3",
   "version": "3.13.5"
  }
 },
 "nbformat": 4,
 "nbformat_minor": 5
}
